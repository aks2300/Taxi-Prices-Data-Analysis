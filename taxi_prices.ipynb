{
 "cells": [
  {
   "cell_type": "markdown",
   "metadata": {},
   "source": [
    "# Taxi Pricing - Exploratory Data Analysis"
   ]
  },
  {
   "cell_type": "markdown",
   "metadata": {},
   "source": [
    "#### Questions to be answered\n",
    "- Which time of the day the most trips were taken?\n",
    "- How does the base fare changes during the day? \n",
    "- What is the demand for long distance taxi trips?"
   ]
  },
  {
   "cell_type": "markdown",
   "metadata": {},
   "source": [
    "#### Description of the dataset\n",
    "The dataset, taxi_trip_pricing.csv, contains all the information about taxi trips taken. This dataset contains 11 fields, that provides detailed insights."
   ]
  },
  {
   "cell_type": "code",
   "execution_count": 2,
   "metadata": {},
   "outputs": [],
   "source": [
    "import pandas as pd\n",
    "import matplotlib.pyplot as pplt \n",
    "import seaborn as sns\n",
    "\n",
    "%matplotlib inline\n",
    "\n",
    "sns.set_theme(style= 'white')"
   ]
  },
  {
   "cell_type": "markdown",
   "metadata": {},
   "source": [
    ">   Now that, all of the necessary libraries for this analysis are imported, we can start by loading the dataset into pandas DataFrame."
   ]
  },
  {
   "cell_type": "code",
   "execution_count": 3,
   "metadata": {},
   "outputs": [
    {
     "name": "stdout",
     "output_type": "stream",
     "text": [
      "<class 'pandas.core.frame.DataFrame'>\n",
      "RangeIndex: 1000 entries, 0 to 999\n",
      "Data columns (total 11 columns):\n",
      " #   Column                 Non-Null Count  Dtype  \n",
      "---  ------                 --------------  -----  \n",
      " 0   Trip_Distance_km       950 non-null    float64\n",
      " 1   Time_of_Day            950 non-null    object \n",
      " 2   Day_of_Week            950 non-null    object \n",
      " 3   Passenger_Count        950 non-null    float64\n",
      " 4   Traffic_Conditions     950 non-null    object \n",
      " 5   Weather                950 non-null    object \n",
      " 6   Base_Fare              950 non-null    float64\n",
      " 7   Per_Km_Rate            950 non-null    float64\n",
      " 8   Per_Minute_Rate        950 non-null    float64\n",
      " 9   Trip_Duration_Minutes  950 non-null    float64\n",
      " 10  Trip_Price             951 non-null    float64\n",
      "dtypes: float64(7), object(4)\n",
      "memory usage: 86.1+ KB\n"
     ]
    }
   ],
   "source": [
    "dF = pd.read_csv('taxi_trip_pricing.csv', encoding='latin-1')\n",
    "\n",
    "dF.info()"
   ]
  },
  {
   "cell_type": "markdown",
   "metadata": {},
   "source": [
    "> This dataset contains 1,000 rows and non-null count is 950. Therefore, We need to clean the data before analyising."
   ]
  },
  {
   "cell_type": "markdown",
   "metadata": {},
   "source": [
    "#### Data Cleaning\n",
    "Before diving deep into analysis, we have to firstly tidy up the data to come towards best conclusion."
   ]
  },
  {
   "cell_type": "code",
   "execution_count": 4,
   "metadata": {},
   "outputs": [
    {
     "data": {
      "text/plain": [
       "Trip_Distance_km         50\n",
       "Time_of_Day              50\n",
       "Day_of_Week              50\n",
       "Passenger_Count          50\n",
       "Traffic_Conditions       50\n",
       "Weather                  50\n",
       "Base_Fare                50\n",
       "Per_Km_Rate              50\n",
       "Per_Minute_Rate          50\n",
       "Trip_Duration_Minutes    50\n",
       "Trip_Price               49\n",
       "dtype: int64"
      ]
     },
     "execution_count": 4,
     "metadata": {},
     "output_type": "execute_result"
    }
   ],
   "source": [
    "# Let's see the count of NaN values in each columns in the dataset.\n",
    "dF.isnull().sum()"
   ]
  },
  {
   "cell_type": "code",
   "execution_count": 5,
   "metadata": {},
   "outputs": [
    {
     "data": {
      "text/plain": [
       "Trip_Distance_km         562\n",
       "Time_of_Day              562\n",
       "Day_of_Week              562\n",
       "Passenger_Count          562\n",
       "Traffic_Conditions       562\n",
       "Weather                  562\n",
       "Base_Fare                562\n",
       "Per_Km_Rate              562\n",
       "Per_Minute_Rate          562\n",
       "Trip_Duration_Minutes    562\n",
       "Trip_Price               562\n",
       "dtype: int64"
      ]
     },
     "execution_count": 5,
     "metadata": {},
     "output_type": "execute_result"
    }
   ],
   "source": [
    "# In order to keep the cleaning process simple, we will just do dropna() to remove all rows with NaN values.\n",
    "dF.dropna().count()\n"
   ]
  },
  {
   "cell_type": "code",
   "execution_count": 6,
   "metadata": {},
   "outputs": [
    {
     "data": {
      "text/plain": [
       "(562, 11)"
      ]
     },
     "execution_count": 6,
     "metadata": {},
     "output_type": "execute_result"
    }
   ],
   "source": [
    "dF = dF.dropna()\n",
    "dF.shape"
   ]
  },
  {
   "cell_type": "markdown",
   "metadata": {},
   "source": [
    "> Just like that, the DataFrame has no rows with NaN values now."
   ]
  },
  {
   "cell_type": "markdown",
   "metadata": {},
   "source": [
    "#### Data Visualisation"
   ]
  },
  {
   "cell_type": "code",
   "execution_count": 7,
   "metadata": {},
   "outputs": [
    {
     "data": {
      "text/html": [
       "<div>\n",
       "<style scoped>\n",
       "    .dataframe tbody tr th:only-of-type {\n",
       "        vertical-align: middle;\n",
       "    }\n",
       "\n",
       "    .dataframe tbody tr th {\n",
       "        vertical-align: top;\n",
       "    }\n",
       "\n",
       "    .dataframe thead th {\n",
       "        text-align: right;\n",
       "    }\n",
       "</style>\n",
       "<table border=\"1\" class=\"dataframe\">\n",
       "  <thead>\n",
       "    <tr style=\"text-align: right;\">\n",
       "      <th></th>\n",
       "      <th>Trip_Distance_km</th>\n",
       "      <th>Passenger_Count</th>\n",
       "      <th>Base_Fare</th>\n",
       "      <th>Per_Km_Rate</th>\n",
       "      <th>Per_Minute_Rate</th>\n",
       "      <th>Trip_Duration_Minutes</th>\n",
       "      <th>Trip_Price</th>\n",
       "    </tr>\n",
       "  </thead>\n",
       "  <tbody>\n",
       "    <tr>\n",
       "      <th>count</th>\n",
       "      <td>562.000000</td>\n",
       "      <td>562.000000</td>\n",
       "      <td>562.000000</td>\n",
       "      <td>562.000000</td>\n",
       "      <td>562.000000</td>\n",
       "      <td>562.000000</td>\n",
       "      <td>562.000000</td>\n",
       "    </tr>\n",
       "    <tr>\n",
       "      <th>mean</th>\n",
       "      <td>27.772941</td>\n",
       "      <td>2.533808</td>\n",
       "      <td>3.509893</td>\n",
       "      <td>1.219858</td>\n",
       "      <td>0.288221</td>\n",
       "      <td>61.825089</td>\n",
       "      <td>57.663525</td>\n",
       "    </tr>\n",
       "    <tr>\n",
       "      <th>std</th>\n",
       "      <td>21.153175</td>\n",
       "      <td>1.108915</td>\n",
       "      <td>0.871082</td>\n",
       "      <td>0.430351</td>\n",
       "      <td>0.114834</td>\n",
       "      <td>32.128436</td>\n",
       "      <td>43.958741</td>\n",
       "    </tr>\n",
       "    <tr>\n",
       "      <th>min</th>\n",
       "      <td>1.270000</td>\n",
       "      <td>1.000000</td>\n",
       "      <td>2.010000</td>\n",
       "      <td>0.500000</td>\n",
       "      <td>0.100000</td>\n",
       "      <td>5.010000</td>\n",
       "      <td>6.126900</td>\n",
       "    </tr>\n",
       "    <tr>\n",
       "      <th>25%</th>\n",
       "      <td>13.135000</td>\n",
       "      <td>2.000000</td>\n",
       "      <td>2.722500</td>\n",
       "      <td>0.840000</td>\n",
       "      <td>0.190000</td>\n",
       "      <td>36.530000</td>\n",
       "      <td>33.583875</td>\n",
       "    </tr>\n",
       "    <tr>\n",
       "      <th>50%</th>\n",
       "      <td>26.420000</td>\n",
       "      <td>3.000000</td>\n",
       "      <td>3.545000</td>\n",
       "      <td>1.200000</td>\n",
       "      <td>0.280000</td>\n",
       "      <td>61.210000</td>\n",
       "      <td>50.157850</td>\n",
       "    </tr>\n",
       "    <tr>\n",
       "      <th>75%</th>\n",
       "      <td>38.827500</td>\n",
       "      <td>4.000000</td>\n",
       "      <td>4.260000</td>\n",
       "      <td>1.580000</td>\n",
       "      <td>0.387500</td>\n",
       "      <td>88.435000</td>\n",
       "      <td>69.146575</td>\n",
       "    </tr>\n",
       "    <tr>\n",
       "      <th>max</th>\n",
       "      <td>146.067047</td>\n",
       "      <td>4.000000</td>\n",
       "      <td>5.000000</td>\n",
       "      <td>2.000000</td>\n",
       "      <td>0.500000</td>\n",
       "      <td>119.840000</td>\n",
       "      <td>332.043689</td>\n",
       "    </tr>\n",
       "  </tbody>\n",
       "</table>\n",
       "</div>"
      ],
      "text/plain": [
       "       Trip_Distance_km  Passenger_Count   Base_Fare  Per_Km_Rate  \\\n",
       "count        562.000000       562.000000  562.000000   562.000000   \n",
       "mean          27.772941         2.533808    3.509893     1.219858   \n",
       "std           21.153175         1.108915    0.871082     0.430351   \n",
       "min            1.270000         1.000000    2.010000     0.500000   \n",
       "25%           13.135000         2.000000    2.722500     0.840000   \n",
       "50%           26.420000         3.000000    3.545000     1.200000   \n",
       "75%           38.827500         4.000000    4.260000     1.580000   \n",
       "max          146.067047         4.000000    5.000000     2.000000   \n",
       "\n",
       "       Per_Minute_Rate  Trip_Duration_Minutes  Trip_Price  \n",
       "count       562.000000             562.000000  562.000000  \n",
       "mean          0.288221              61.825089   57.663525  \n",
       "std           0.114834              32.128436   43.958741  \n",
       "min           0.100000               5.010000    6.126900  \n",
       "25%           0.190000              36.530000   33.583875  \n",
       "50%           0.280000              61.210000   50.157850  \n",
       "75%           0.387500              88.435000   69.146575  \n",
       "max           0.500000             119.840000  332.043689  "
      ]
     },
     "execution_count": 7,
     "metadata": {},
     "output_type": "execute_result"
    }
   ],
   "source": [
    "dF.describe()"
   ]
  },
  {
   "cell_type": "markdown",
   "metadata": {},
   "source": [
    "> The pricing for taxi trips tend to have a wider spread due to its high standard deviation."
   ]
  },
  {
   "cell_type": "markdown",
   "metadata": {},
   "source": [
    "##### Question 1"
   ]
  },
  {
   "cell_type": "code",
   "execution_count": 8,
   "metadata": {},
   "outputs": [
    {
     "data": {
      "text/plain": [
       "Time_of_Day\n",
       "Afternoon    220\n",
       "Evening      124\n",
       "Morning      157\n",
       "Night         61\n",
       "Name: Day_of_Week, dtype: int64"
      ]
     },
     "execution_count": 8,
     "metadata": {},
     "output_type": "execute_result"
    }
   ],
   "source": [
    "countTrip= dF['Day_of_Week'].groupby(dF['Time_of_Day']).count()\n",
    "countTrip"
   ]
  },
  {
   "cell_type": "code",
   "execution_count": 9,
   "metadata": {},
   "outputs": [
    {
     "data": {
      "text/plain": [
       "39.14590747330961"
      ]
     },
     "execution_count": 9,
     "metadata": {},
     "output_type": "execute_result"
    }
   ],
   "source": [
    "#percentage of trips in the afternoon in the whole data\n",
    "(countTrip['Afternoon']/dF.shape[0])*100"
   ]
  },
  {
   "cell_type": "markdown",
   "metadata": {},
   "source": [
    "> We can see that almost 40% of the trips were taken in the afternoon. That would be the result of majority of people running their errands in the afternoon."
   ]
  },
  {
   "cell_type": "markdown",
   "metadata": {},
   "source": [
    "##### Question 2"
   ]
  },
  {
   "cell_type": "code",
   "execution_count": 10,
   "metadata": {},
   "outputs": [
    {
     "data": {
      "image/png": "[encoded data removed]",
      "text/plain": [
       "<Figure size 593.125x500 with 1 Axes>"
      ]
     },
     "metadata": {},
     "output_type": "display_data"
    }
   ],
   "source": [
    "fig = sns.catplot(kind= 'bar', x= dF['Time_of_Day'], y=dF['Base_Fare'], hue= dF['Weather'], errorbar= 'sd', order= ['Morning', 'Afternoon', 'Evening', 'Night'])\n",
    "fig.set_xlabels('Time of Day')\n",
    "fig.set_ylabels('Base Fare')\n",
    "pplt.show()"
   ]
  },
  {
   "cell_type": "markdown",
   "metadata": {},
   "source": [
    "> The bar plot above shows that the earlier times and nighttime of the day has slightly higher base fare than the rest of the day. This correlation also changes according to the weather conditions as shown by the plot above."
   ]
  },
  {
   "cell_type": "markdown",
   "metadata": {},
   "source": [
    "##### Question 3"
   ]
  },
  {
   "cell_type": "code",
   "execution_count": 11,
   "metadata": {},
   "outputs": [
    {
     "data": {
      "image/png": "[encoded data removed]",
      "text/plain": [
       "<Figure size 677.5x500 with 1 Axes>"
      ]
     },
     "metadata": {},
     "output_type": "display_data"
    }
   ],
   "source": [
    "fig1 = sns.relplot(x= dF['Trip_Distance_km'], y= dF['Trip_Price'], hue= dF['Traffic_Conditions'], size= dF['Passenger_Count'], palette= 'rocket_r', hue_order= ['Low', 'Medium', 'High'], legend= True)\n",
    "fig1.set_xlabels('Trip Distance, km')\n",
    "fig1.set_ylabels('Trip Price')\n",
    "pplt.show()"
   ]
  },
  {
   "cell_type": "code",
   "execution_count": 12,
   "metadata": {},
   "outputs": [
    {
     "data": {
      "text/plain": [
       "Passenger_Count\n",
       "2.0    150\n",
       "4.0    146\n",
       "3.0    137\n",
       "1.0    129\n",
       "Name: count, dtype: int64"
      ]
     },
     "execution_count": 12,
     "metadata": {},
     "output_type": "execute_result"
    }
   ],
   "source": [
    "dF['Passenger_Count'].value_counts()"
   ]
  },
  {
   "cell_type": "markdown",
   "metadata": {},
   "source": [
    "> While there are some trips over 100km, there is no demand for between 50 and 100 km trips, suprisingly. For, these over 100km trips, the number of passengers is usually two or more."
   ]
  },
  {
   "cell_type": "markdown",
   "metadata": {},
   "source": [
    "#### Conclusion & Summary"
   ]
  },
  {
   "cell_type": "markdown",
   "metadata": {},
   "source": [
    "> The taxi trip price tends to have higher standard deviation(more wider spread) as the trip distance increases."
   ]
  },
  {
   "cell_type": "markdown",
   "metadata": {},
   "source": [
    "> Majority of people just prefer shorter distance taxi trips."
   ]
  },
  {
   "cell_type": "markdown",
   "metadata": {},
   "source": [
    "> The traffic condition for most of the trips is medium."
   ]
  },
  {
   "cell_type": "markdown",
   "metadata": {},
   "source": [
    ">"
   ]
  }
 ],
 "metadata": {
  "kernelspec": {
   "display_name": "base",
   "language": "python",
   "name": "python3"
  },
  "language_info": {
   "codemirror_mode": {
    "name": "ipython",
    "version": 3
   },
   "file_extension": ".py",
   "mimetype": "text/x-python",
   "name": "python",
   "nbconvert_exporter": "python",
   "pygments_lexer": "ipython3",
   "version": "3.12.7"
  }
 },
 "nbformat": 4,
 "nbformat_minor": 2
}
